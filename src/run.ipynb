{
 "cells": [
  {
   "cell_type": "markdown",
   "metadata": {},
   "source": [
    "# Advertising campaign and pricing problem project\n",
    "*online learning applications*\n",
    "\n",
    "Here each requirment can be run individually, it's possibile to set some parameters before the execution : add -h to each run (e.g %run req -h) to display the arguments that can be set.\n",
    "If noargument is set default values are used"
   ]
  },
  {
   "cell_type": "markdown",
   "metadata": {},
   "source": [
    "## Requirement 1: stochastic environment\n",
    "\n",
    "- Pricing algorithm: a pricing strategy using the continuous set of prices p ∈ [0, 1] and Gaussian Processes.\n",
    "\n",
    "- Bidding algorithm: A primal-dual algorithm for truthful auctions, A UCB-like algorithm"
   ]
  },
  {
   "cell_type": "code",
   "execution_count": null,
   "metadata": {},
   "outputs": [],
   "source": [
    "%run req1.py "
   ]
  },
  {
   "cell_type": "markdown",
   "metadata": {},
   "source": [
    "## Requirement 2: adversarial environment\n",
    "\n",
    "It includes:\n",
    "- Adversarial (highly non-stationary) environment\n",
    "- A sequence of competing bids of the other agents (e.g., sampled from a distribution that changes quickly over time)\n",
    "- For each day, a function specifying the probability with which an user buys for\n",
    "every price (this function changes quickly over time)\n",
    "- A generalized first-price auction.\n",
    "- A primal-dual algorithm for non-truthful auctions\n"
   ]
  },
  {
   "cell_type": "code",
   "execution_count": null,
   "metadata": {},
   "outputs": [],
   "source": [
    "%run req2.py "
   ]
  },
  {
   "cell_type": "markdown",
   "metadata": {},
   "source": [
    "## Requirement 3: two extensions for pricing\n",
    "\n",
    "- In this scenario a demand curve with noise (differently from previous points in which\n",
    "the demand curve depends on the number of visits and hence on the advertising step) is used\n",
    "- A non-stationary environment for the pricing problem is considered\n",
    "- A pricing strategy using the discretization of the prices p ∈ [0, 1] to tackle the scenario and: **sliding-window**, **CUSUM**.\n",
    "- For comparison the algorithms implemented are: \n",
    "1. **simple UCB1**\n",
    "2. **UCB sliding window** \n",
    "3. **Gaussian Process UCB with CUSUM**\n",
    "4. **UCB with CUSUM**\n",
    "5. **Thompson Sampling with CUSUM** "
   ]
  },
  {
   "cell_type": "code",
   "execution_count": null,
   "metadata": {},
   "outputs": [],
   "source": [
    "%run req3.py "
   ]
  },
  {
   "cell_type": "markdown",
   "metadata": {},
   "source": [
    "## Requirement 4: Compare different bidding algorithms\n",
    "\n",
    "The different algorithms that we have seen for bidding are considered and we let them play one\n",
    "against the others in a **generalized first-price auction**.  In particular, consider:\n",
    "- A primal-dual algorithm for truthful auctions\n",
    "- A primal-dual algorithm for non-truthful auctions\n",
    "- A UCB-like approach"
   ]
  },
  {
   "cell_type": "markdown",
   "metadata": {},
   "source": [
    "%run req4.py "
   ]
  },
  {
   "cell_type": "code",
   "execution_count": null,
   "metadata": {},
   "outputs": [],
   "source": [
    "%run req4.py "
   ]
  }
 ],
 "metadata": {
  "kernelspec": {
   "display_name": "Python 3",
   "language": "python",
   "name": "python3"
  },
  "language_info": {
   "codemirror_mode": {
    "name": "ipython",
    "version": 3
   },
   "file_extension": ".py",
   "mimetype": "text/x-python",
   "name": "python",
   "nbconvert_exporter": "python",
   "pygments_lexer": "ipython3",
   "version": "3.9.6"
  }
 },
 "nbformat": 4,
 "nbformat_minor": 2
}
